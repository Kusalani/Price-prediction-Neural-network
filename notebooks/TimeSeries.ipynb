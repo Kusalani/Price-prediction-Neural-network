{
 "cells": [
  {
   "cell_type": "code",
   "execution_count": 1,
   "metadata": {},
   "outputs": [],
   "source": [
    "import pandas as pd\n",
    "from sklearn.preprocessing import OneHotEncoder"
   ]
  },
  {
   "cell_type": "code",
   "execution_count": 2,
   "metadata": {},
   "outputs": [],
   "source": [
    "# Load the dataset\n",
    "data = pd.read_csv(\"../data/data.csv\") \n"
   ]
  },
  {
   "cell_type": "code",
   "execution_count": 3,
   "metadata": {},
   "outputs": [],
   "source": [
    "# Convert 'Date' column to datetime\n",
    "data['Date'] = pd.to_datetime(data['Date'])"
   ]
  },
  {
   "cell_type": "code",
   "execution_count": 4,
   "metadata": {},
   "outputs": [],
   "source": [
    "# Sort the data by date\n",
    "data = data.sort_values('Date')"
   ]
  },
  {
   "cell_type": "code",
   "execution_count": 5,
   "metadata": {},
   "outputs": [
    {
     "name": "stderr",
     "output_type": "stream",
     "text": [
      "/home/codespace/.local/lib/python3.10/site-packages/sklearn/preprocessing/_encoders.py:975: FutureWarning: `sparse` was renamed to `sparse_output` in version 1.2 and will be removed in 1.4. `sparse_output` is ignored unless you leave `sparse` to its default value.\n",
      "  warnings.warn(\n"
     ]
    },
    {
     "ename": "AttributeError",
     "evalue": "'OneHotEncoder' object has no attribute 'get_feature_names'",
     "output_type": "error",
     "traceback": [
      "\u001b[0;31m---------------------------------------------------------------------------\u001b[0m",
      "\u001b[0;31mAttributeError\u001b[0m                            Traceback (most recent call last)",
      "\u001b[1;32m/workspaces/Price-prediction-Neural-network/notebooks/TimeSeries.ipynb Cell 5\u001b[0m line \u001b[0;36m4\n\u001b[1;32m      <a href='vscode-notebook-cell://codespaces%2Bpsychic-winner-rqv4v46pgjhxgg4/workspaces/Price-prediction-Neural-network/notebooks/TimeSeries.ipynb#W4sdnNjb2RlLXJlbW90ZQ%3D%3D?line=1'>2</a>\u001b[0m encoder \u001b[39m=\u001b[39m OneHotEncoder(sparse\u001b[39m=\u001b[39m\u001b[39mFalse\u001b[39;00m)\n\u001b[1;32m      <a href='vscode-notebook-cell://codespaces%2Bpsychic-winner-rqv4v46pgjhxgg4/workspaces/Price-prediction-Neural-network/notebooks/TimeSeries.ipynb#W4sdnNjb2RlLXJlbW90ZQ%3D%3D?line=2'>3</a>\u001b[0m encoded_features \u001b[39m=\u001b[39m encoder\u001b[39m.\u001b[39mfit_transform(data[[\u001b[39m'\u001b[39m\u001b[39mGemstoneName\u001b[39m\u001b[39m'\u001b[39m, \u001b[39m'\u001b[39m\u001b[39mColor\u001b[39m\u001b[39m'\u001b[39m, \u001b[39m'\u001b[39m\u001b[39mClarity\u001b[39m\u001b[39m'\u001b[39m, \u001b[39m'\u001b[39m\u001b[39mCut\u001b[39m\u001b[39m'\u001b[39m]])\n\u001b[0;32m----> <a href='vscode-notebook-cell://codespaces%2Bpsychic-winner-rqv4v46pgjhxgg4/workspaces/Price-prediction-Neural-network/notebooks/TimeSeries.ipynb#W4sdnNjb2RlLXJlbW90ZQ%3D%3D?line=3'>4</a>\u001b[0m encoded_feature_names \u001b[39m=\u001b[39m encoder\u001b[39m.\u001b[39;49mget_feature_names([\u001b[39m'\u001b[39m\u001b[39mGemstoneName\u001b[39m\u001b[39m'\u001b[39m, \u001b[39m'\u001b[39m\u001b[39mColor\u001b[39m\u001b[39m'\u001b[39m, \u001b[39m'\u001b[39m\u001b[39mClarity\u001b[39m\u001b[39m'\u001b[39m, \u001b[39m'\u001b[39m\u001b[39mCut\u001b[39m\u001b[39m'\u001b[39m])\n\u001b[1;32m      <a href='vscode-notebook-cell://codespaces%2Bpsychic-winner-rqv4v46pgjhxgg4/workspaces/Price-prediction-Neural-network/notebooks/TimeSeries.ipynb#W4sdnNjb2RlLXJlbW90ZQ%3D%3D?line=4'>5</a>\u001b[0m data_encoded \u001b[39m=\u001b[39m pd\u001b[39m.\u001b[39mconcat([data, pd\u001b[39m.\u001b[39mDataFrame(encoded_features, columns\u001b[39m=\u001b[39mencoded_feature_names)], axis\u001b[39m=\u001b[39m\u001b[39m1\u001b[39m)\n",
      "\u001b[0;31mAttributeError\u001b[0m: 'OneHotEncoder' object has no attribute 'get_feature_names'"
     ]
    }
   ],
   "source": [
    "# Select categorical columns to one-hot encode\n",
    "categorical_columns = ['GemstoneName', 'Color', 'Clarity', 'Cut']\n",
    "\n",
    "# Initialize the OneHotEncoder\n",
    "encoder = OneHotEncoder(sparse=False)\n",
    "\n",
    "# Fit and transform the encoder on the categorical columns\n",
    "encoded_features = encoder.fit_transform(data[categorical_columns])\n",
    "\n",
    "# Get the feature names for the one-hot encoded columns\n",
    "encoded_feature_names = encoder.get_feature_names_out(input_features=categorical_columns)\n",
    "\n",
    "# Create a DataFrame from the one-hot encoded features\n",
    "encoded_df = pd.DataFrame(encoded_features, columns=encoded_feature_names)\n",
    "\n",
    "# Concatenate the one-hot encoded DataFrame with the original data\n",
    "data_encoded = pd.concat([data, encoded_df], axis=1)\n",
    "\n",
    "# Drop the original categorical columns\n",
    "data_encoded.drop(categorical_columns, axis=1, inplace=True)"
   ]
  }
 ],
 "metadata": {
  "kernelspec": {
   "display_name": "Python 3",
   "language": "python",
   "name": "python3"
  },
  "language_info": {
   "codemirror_mode": {
    "name": "ipython",
    "version": 3
   },
   "file_extension": ".py",
   "mimetype": "text/x-python",
   "name": "python",
   "nbconvert_exporter": "python",
   "pygments_lexer": "ipython3",
   "version": "3.10.8"
  }
 },
 "nbformat": 4,
 "nbformat_minor": 2
}
